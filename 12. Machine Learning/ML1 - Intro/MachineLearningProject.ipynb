{
  "nbformat": 4,
  "nbformat_minor": 0,
  "metadata": {
    "colab": {
      "private_outputs": true,
      "provenance": [],
      "authorship_tag": "ABX9TyMxMxoJ7TTk5syeYkWqUb1k",
      "include_colab_link": true
    },
    "kernelspec": {
      "name": "python3",
      "display_name": "Python 3"
    },
    "language_info": {
      "name": "python"
    }
  },
  "cells": [
    {
      "cell_type": "markdown",
      "metadata": {
        "id": "view-in-github",
        "colab_type": "text"
      },
      "source": [
        "<a href=\"https://colab.research.google.com/github/yiranlus/Ankia-Theme/blob/main/12.%20Machine%20Learning/ML1%20-%20Intro/MachineLearningProject.ipynb\" target=\"_parent\"><img src=\"https://colab.research.google.com/assets/colab-badge.svg\" alt=\"Open In Colab\"/></a>"
      ]
    },
    {
      "cell_type": "markdown",
      "source": [
        "# Machine Learning Project on Arbres"
      ],
      "metadata": {
        "id": "qpN0zAHtqhcG"
      }
    },
    {
      "cell_type": "code",
      "execution_count": null,
      "metadata": {
        "id": "QQLc_UOZoDu-"
      },
      "outputs": [],
      "source": [
        "# @title Download the Arbres Dataset\n",
        "!curl -L \"https://data.metropolegrenoble.fr/d4c/api/records/2.0/downloadfile/format=csv&resource_id=17fff084-3e54-4add-8d00-e2d31676fdec&use_labels_for_header=true&user_defined_fields=true\" -o arbres_grenoble_epsg4326.csv\n"
      ]
    },
    {
      "cell_type": "code",
      "source": [
        "# @title Import the Essential Modules\n",
        "import numpy as np\n",
        "import pandas as pd\n",
        "\n",
        "import matplotlib.pyplot as plt\n",
        "\n",
        "import folium\n",
        "from folium.plugins import FastMarkerCluster\n",
        "\n",
        "try:\n",
        "    from google.colab import data_table\n",
        "\n",
        "    # Enable interactive table display\n",
        "    data_table.enable_dataframe_formatter()\n",
        "    from google.colab.data_table import DataTable\n",
        "except:\n",
        "    def DataTable(df, *args, **kwargs):\n",
        "        display(df)\n"
      ],
      "metadata": {
        "cellView": "form",
        "id": "jDWHsVw9pzxt"
      },
      "execution_count": null,
      "outputs": []
    },
    {
      "cell_type": "markdown",
      "source": [
        "## Load and Clean the Dataset"
      ],
      "metadata": {
        "id": "-JJXP9wLqTzS"
      }
    },
    {
      "cell_type": "code",
      "source": [
        "df = pd.read_csv(\"./arbres_grenoble_epsg4326.csv\")\n",
        "df.set_index(\"elem_point_id\", inplace=True)\n",
        "df[\"anneedeplantation\"] = df[\"anneedeplantation\"].astype(pd.Int64Dtype())\n",
        "df_latlng = df[\"geo_point_2d\"].str.split(\",\")\n",
        "df[\"latitude\"] = df_latlng.apply(lambda x: x[0])\n",
        "df[\"longitude\"] = df_latlng.apply(lambda x: x[1])\n",
        "df.drop(columns=\"geo_point_2d\", inplace=True)\n",
        "DataTable(df.head(), max_columns=len(df.columns))"
      ],
      "metadata": {
        "id": "3LGuFLJuqSSp"
      },
      "execution_count": null,
      "outputs": []
    },
    {
      "cell_type": "code",
      "source": [
        "# @title Remove Trees where \"Année de Plantation\" is missing\n",
        "\n",
        "df_clean = df.dropna(subset=[\"anneedeplantation\"])"
      ],
      "metadata": {
        "id": "J0STO4CrqNcB"
      },
      "execution_count": null,
      "outputs": []
    },
    {
      "cell_type": "code",
      "source": [
        "# @title Remove Unhelpful Columns\n",
        "\n",
        "## All the rows have the same value\n",
        "df_clean = df_clean.drop(columns=[\"genre\", \"genre_desc\", \"categorie\", \"categorie_desc\"])\n",
        "\n",
        "## All the rows have missing value\n",
        "df_clean = df_clean.drop(columns=[\"equipe\", \"courrier\", \"anneeabattage\", \"essouchement\", \"diametrearbre\", \"causeabattage\"])\n",
        "\n",
        "DataTable(df_clean.head(), max_columns=len(df_clean.columns))\n"
      ],
      "metadata": {
        "id": "QNt8lT35v7gu"
      },
      "execution_count": null,
      "outputs": []
    },
    {
      "cell_type": "code",
      "source": [
        "df_clean.to_pickle(\"arbres_grenoble_epsg4326_clean.pickle\")\n",
        "\n",
        "print(\"saved to arbres_grenoble_epsg4326_clean.pickle\")"
      ],
      "metadata": {
        "id": "E3eczJDurMWu"
      },
      "execution_count": null,
      "outputs": []
    },
    {
      "cell_type": "code",
      "source": [
        "df_clean.typenature.unique()"
      ],
      "metadata": {
        "id": "5iRDxH7GsoWV"
      },
      "execution_count": null,
      "outputs": []
    },
    {
      "cell_type": "code",
      "source": [],
      "metadata": {
        "id": "0mKC8zhJvxqo"
      },
      "execution_count": null,
      "outputs": []
    }
  ]
}